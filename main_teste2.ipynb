{
 "cells": [
  {
   "cell_type": "code",
   "execution_count": 37,
   "id": "1c86aece",
   "metadata": {},
   "outputs": [
    {
     "name": "stdout",
     "output_type": "stream",
     "text": [
      "\u001b[38;5;2m✔ Download and installation successful\u001b[0m\n",
      "You can now load the package via spacy.load('en_core_web_sm')\n"
     ]
    }
   ],
   "source": [
    "from chatterbot.trainers import ListTrainer\n",
    "from chatterbot.trainers import ChatterBotCorpusTrainer\n",
    "from chatterbot import ChatBot\n",
    "from PyPDF2 import PdfReader\n",
    "from pdfminer.high_level import extract_text\n",
    "from chatterbot import ChatBot\n",
    "from chatterbot.trainers import ListTrainer\n",
    "\n",
    "import os\n",
    "import yaml\n",
    "\n",
    "\n",
    "\n",
    "\n",
    "from spacy.cli import download\n",
    "download(\"en_core_web_sm\")\n",
    "\n",
    "class ENGSM:\n",
    "    ISO_639_1 = 'en_core_web_sm'"
   ]
  },
  {
   "cell_type": "code",
   "execution_count": 74,
   "id": "7e68fdfb",
   "metadata": {
    "scrolled": true
   },
   "outputs": [
    {
     "name": "stdout",
     "output_type": "stream",
     "text": [
      "List Trainer: [####################] 100%\n",
      "List Trainer: [####################] 100%\n",
      "Você: medicamento\n",
      "Bot:  i\n",
      "Você: adeUs\n",
      "Bot: Até logo!\n"
     ]
    },
    {
     "data": {
      "text/plain": [
       "\"while True:\\n    try:\\n        pergunta = input('Você: ')\\n        resposta = bot.get_response(pergunta)\\n        print('Bot: ', resposta)\\n\\n    # fecha o chatbot com ctrl + c\\n    except KeyboardInterrupt:\\n        break\""
      ]
     },
     "execution_count": 74,
     "metadata": {},
     "output_type": "execute_result"
    }
   ],
   "source": [
    "\n",
    "def read_corpus(file_name):\n",
    "    \"\"\"\n",
    "    Read and parse the lines from a corpus file.\n",
    "    \"\"\"\n",
    "    with io.open(file_name, encoding='utf-8') as data_file:\n",
    "        return yaml.safe_load(data_file)\n",
    "\n",
    "\n",
    "#cria o chatbot\n",
    "bot = ChatBot('assistente', tagger_language=ENGSM)\n",
    "\n",
    "\n",
    "\n",
    "\n",
    "# carrega o conjunto de dados de conversas\n",
    "\n",
    "    \n",
    "with open('chatterbot-corpus/chatterbot_corpus/data/portuguese/greetings.yml') as file:\n",
    "    corpus = yaml.safe_load(file)\n",
    "\n",
    "with open('chatterbot-corpus/chatterbot_corpus/data/portuguese/conversations.yml') as file:\n",
    "    corpus = yaml.safe_load(file)\n",
    "\n",
    "\n",
    "\n",
    "\n",
    "\n",
    "\n",
    "# extrai o texto do PDF e armazena em uma variável\n",
    "with open('medicamento_generico_teste.pdf', 'rb') as pdf_file:\n",
    "    text = extract_text(pdf_file)\n",
    "\n",
    "# treina o chatbot com o texto do PDF\n",
    "trainer = ListTrainer(bot)\n",
    "trainer.train([text])\n",
    "\n",
    "\n",
    "\n",
    "# treina o chatbot com o texto do PDF\n",
    "trainer.train(text)\n",
    "\n",
    "\n",
    "# interage com o chatbot\n",
    "#Digite \"adeus\" pra sair da conversa com o bot\n",
    "while True:\n",
    "    pergunta = input('Você: ')\n",
    "    if pergunta.lower() == 'adeus':\n",
    "        print('Bot: Até logo!')\n",
    "        break\n",
    "    else:\n",
    "        resposta = bot.get_response(pergunta)\n",
    "        print('Bot: ', resposta)\n",
    "\n",
    "\n",
    "\n"
   ]
  },
  {
   "cell_type": "code",
   "execution_count": 48,
   "id": "aa62de46",
   "metadata": {},
   "outputs": [
    {
     "name": "stdout",
     "output_type": "stream",
     "text": [
      "/home/markus/Documentos/Chatterbot\n"
     ]
    }
   ],
   "source": [
    "#apenas para saber em que diretório estamos\n",
    "print(os.getcwd())"
   ]
  },
  {
   "cell_type": "code",
   "execution_count": 69,
   "id": "b02c6a81",
   "metadata": {
    "scrolled": true
   },
   "outputs": [
    {
     "name": "stdout",
     "output_type": "stream",
     "text": [
      "drop feito\n"
     ]
    }
   ],
   "source": [
    "#Rode essa célula para limpar os dados do bot\n",
    "bot.storage.drop()\n",
    "print(\"drop feito\")"
   ]
  },
  {
   "cell_type": "code",
   "execution_count": null,
   "id": "832f9e46",
   "metadata": {},
   "outputs": [],
   "source": []
  }
 ],
 "metadata": {
  "kernelspec": {
   "display_name": "Python 3",
   "language": "python",
   "name": "python3"
  },
  "language_info": {
   "codemirror_mode": {
    "name": "ipython",
    "version": 3
   },
   "file_extension": ".py",
   "mimetype": "text/x-python",
   "name": "python",
   "nbconvert_exporter": "python",
   "pygments_lexer": "ipython3",
   "version": "3.6.13"
  }
 },
 "nbformat": 4,
 "nbformat_minor": 5
}
